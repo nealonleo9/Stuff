{
  "nbformat": 4,
  "nbformat_minor": 0,
  "metadata": {
    "colab": {
      "name": "RunC++",
      "provenance": [],
      "authorship_tag": "ABX9TyN8rF6OPVMWaK/TzYJs/yiR",
      "include_colab_link": true
    },
    "kernelspec": {
      "name": "python3",
      "display_name": "Python 3"
    }
  },
  "cells": [
    {
      "cell_type": "markdown",
      "metadata": {
        "id": "view-in-github",
        "colab_type": "text"
      },
      "source": [
        "<a href=\"https://colab.research.google.com/github/nealonleo9/Stuff/blob/main/RunC%2B%2B.ipynb\" target=\"_parent\"><img src=\"https://colab.research.google.com/assets/colab-badge.svg\" alt=\"Open In Colab\"/></a>"
      ]
    },
    {
      "cell_type": "code",
      "metadata": {
        "colab": {
          "base_uri": "https://localhost:8080/"
        },
        "id": "0TSVrxvVZ4KO",
        "outputId": "8072fd0f-2fc6-41e8-c5f6-3ae4216536b5"
      },
      "source": [
        "\"Maybe this works\"\r\n",
        "%%writefile test.cpp\r\n",
        "\r\n",
        "//Main function\r\n",
        "int main(int Argc,char* Args[]){\r\n",
        "  return 0;\r\n",
        "}\r\n",
        "\r\n",
        "Code block 2 (Compile and run):\r\n",
        "%%script bash\r\n",
        "\r\n",
        "g++ test.cpp -o test\r\n",
        "ls -laX\r\n",
        "./test"
      ],
      "execution_count": 4,
      "outputs": [
        {
          "output_type": "stream",
          "text": [
            "Writing test.cpp\n"
          ],
          "name": "stdout"
        }
      ]
    },
    {
      "cell_type": "code",
      "metadata": {
        "id": "w1kx1kZiZ4So"
      },
      "source": [
        ""
      ],
      "execution_count": null,
      "outputs": []
    },
    {
      "cell_type": "code",
      "metadata": {
        "id": "ap2ipNppZ4Zb"
      },
      "source": [
        ""
      ],
      "execution_count": null,
      "outputs": []
    },
    {
      "cell_type": "code",
      "metadata": {
        "id": "FA2WJGZgZ4eN"
      },
      "source": [
        ""
      ],
      "execution_count": null,
      "outputs": []
    }
  ]
}